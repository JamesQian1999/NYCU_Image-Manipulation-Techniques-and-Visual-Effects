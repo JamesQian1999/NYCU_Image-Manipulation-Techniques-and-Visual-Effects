{
 "cells": [
  {
   "cell_type": "code",
   "execution_count": 1,
   "metadata": {},
   "outputs": [],
   "source": [
    "import matplotlib.pyplot as plt"
   ]
  },
  {
   "cell_type": "code",
   "execution_count": null,
   "metadata": {},
   "outputs": [],
   "source": [
    "loss_list = []\n",
    "v1 = open(\"anime_v1/loss.txt\", \"r\")\n",
    "v2 = open(\"anime_v2/loss.txt\", \"r\")\n",
    "v3 = open(\"anime_v3/loss.txt\", \"r\")\n",
    "\n",
    "data = v1.read()  \n",
    "loss = data.split(\"\\n\") \n",
    "loss_list += loss\n",
    "\n",
    "data = v2.read()\n",
    "loss = data.split(\"\\n\")\n",
    "loss_list += loss\n",
    "\n",
    "data = v3.read()\n",
    "loss = data.split(\"\\n\")\n",
    "loss_list += loss"
   ]
  },
  {
   "cell_type": "code",
   "execution_count": null,
   "metadata": {},
   "outputs": [],
   "source": [
    "plt.figure(figsize=(15, 15))\n",
    "plt.xlabel(\"Iterations\")\n",
    "plt.ylabel('Loss')\n",
    "plt.grid()\n",
    "\n",
    "count = [i for i in range(len(loss_list))]\n",
    "plt.plot( count, loss_list, color='blue', label='D',linewidth=2, markersize=10)\n",
    "\n",
    "plt.legend(loc='lower right', prop={'size': 20})\n",
    "plt.savefig(f'tmp_loss.png', bbox_inches='tight')"
   ]
  }
 ],
 "metadata": {
  "kernelspec": {
   "display_name": "cc",
   "language": "python",
   "name": "python3"
  },
  "language_info": {
   "codemirror_mode": {
    "name": "ipython",
    "version": 3
   },
   "file_extension": ".py",
   "mimetype": "text/x-python",
   "name": "python",
   "nbconvert_exporter": "python",
   "pygments_lexer": "ipython3",
   "version": "3.8.16"
  }
 },
 "nbformat": 4,
 "nbformat_minor": 2
}
